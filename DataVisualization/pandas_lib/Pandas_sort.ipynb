{
 "cells": [
  {
   "cell_type": "code",
   "execution_count": 24,
   "metadata": {
    "collapsed": true
   },
   "outputs": [],
   "source": [
    "\n",
    "people = {\n",
    "    \"first\": ['Corey', 'Jane', 'John', 'Adam'],\n",
    "    \"last\": ['Schafer', 'Doe', 'Doe', 'Doe'],\n",
    "    \"email\":['CoreyMSchafer@gmail.com','JaneDoe@email.com' ,'JohnDoe@email.com', 'A@email.com']\n",
    "}\n"
   ]
  },
  {
   "cell_type": "code",
   "execution_count": 25,
   "outputs": [],
   "source": [
    "import pandas as pd"
   ],
   "metadata": {
    "collapsed": false,
    "pycharm": {
     "name": "#%%\n"
    }
   }
  },
  {
   "cell_type": "code",
   "execution_count": 26,
   "outputs": [
    {
     "data": {
      "text/plain": "   first     last                    email\n0  Corey  Schafer  CoreyMSchafer@gmail.com\n1   Jane      Doe        JaneDoe@email.com\n2   John      Doe        JohnDoe@email.com\n3   Adam      Doe              A@email.com",
      "text/html": "<div>\n<style scoped>\n    .dataframe tbody tr th:only-of-type {\n        vertical-align: middle;\n    }\n\n    .dataframe tbody tr th {\n        vertical-align: top;\n    }\n\n    .dataframe thead th {\n        text-align: right;\n    }\n</style>\n<table border=\"1\" class=\"dataframe\">\n  <thead>\n    <tr style=\"text-align: right;\">\n      <th></th>\n      <th>first</th>\n      <th>last</th>\n      <th>email</th>\n    </tr>\n  </thead>\n  <tbody>\n    <tr>\n      <th>0</th>\n      <td>Corey</td>\n      <td>Schafer</td>\n      <td>CoreyMSchafer@gmail.com</td>\n    </tr>\n    <tr>\n      <th>1</th>\n      <td>Jane</td>\n      <td>Doe</td>\n      <td>JaneDoe@email.com</td>\n    </tr>\n    <tr>\n      <th>2</th>\n      <td>John</td>\n      <td>Doe</td>\n      <td>JohnDoe@email.com</td>\n    </tr>\n    <tr>\n      <th>3</th>\n      <td>Adam</td>\n      <td>Doe</td>\n      <td>A@email.com</td>\n    </tr>\n  </tbody>\n</table>\n</div>"
     },
     "execution_count": 26,
     "metadata": {},
     "output_type": "execute_result"
    }
   ],
   "source": [
    "df = pd.DataFrame(people)\n",
    "df"
   ],
   "metadata": {
    "collapsed": false,
    "pycharm": {
     "name": "#%%\n"
    }
   }
  },
  {
   "cell_type": "code",
   "execution_count": 27,
   "outputs": [
    {
     "data": {
      "text/plain": "   first     last                    email\n0  Corey  Schafer  CoreyMSchafer@gmail.com\n3   Adam      Doe              A@email.com\n1   Jane      Doe        JaneDoe@email.com\n2   John      Doe        JohnDoe@email.com",
      "text/html": "<div>\n<style scoped>\n    .dataframe tbody tr th:only-of-type {\n        vertical-align: middle;\n    }\n\n    .dataframe tbody tr th {\n        vertical-align: top;\n    }\n\n    .dataframe thead th {\n        text-align: right;\n    }\n</style>\n<table border=\"1\" class=\"dataframe\">\n  <thead>\n    <tr style=\"text-align: right;\">\n      <th></th>\n      <th>first</th>\n      <th>last</th>\n      <th>email</th>\n    </tr>\n  </thead>\n  <tbody>\n    <tr>\n      <th>0</th>\n      <td>Corey</td>\n      <td>Schafer</td>\n      <td>CoreyMSchafer@gmail.com</td>\n    </tr>\n    <tr>\n      <th>3</th>\n      <td>Adam</td>\n      <td>Doe</td>\n      <td>A@email.com</td>\n    </tr>\n    <tr>\n      <th>1</th>\n      <td>Jane</td>\n      <td>Doe</td>\n      <td>JaneDoe@email.com</td>\n    </tr>\n    <tr>\n      <th>2</th>\n      <td>John</td>\n      <td>Doe</td>\n      <td>JohnDoe@email.com</td>\n    </tr>\n  </tbody>\n</table>\n</div>"
     },
     "execution_count": 27,
     "metadata": {},
     "output_type": "execute_result"
    }
   ],
   "source": [
    "df.sort_values(by=['last', 'first'], ascending=[False, True])"
   ],
   "metadata": {
    "collapsed": false,
    "pycharm": {
     "name": "#%%\n"
    }
   }
  },
  {
   "cell_type": "code",
   "execution_count": 28,
   "outputs": [
    {
     "data": {
      "text/plain": "   first     last                    email\n0  Corey  Schafer  CoreyMSchafer@gmail.com\n1   Jane      Doe        JaneDoe@email.com\n2   John      Doe        JohnDoe@email.com\n3   Adam      Doe              A@email.com",
      "text/html": "<div>\n<style scoped>\n    .dataframe tbody tr th:only-of-type {\n        vertical-align: middle;\n    }\n\n    .dataframe tbody tr th {\n        vertical-align: top;\n    }\n\n    .dataframe thead th {\n        text-align: right;\n    }\n</style>\n<table border=\"1\" class=\"dataframe\">\n  <thead>\n    <tr style=\"text-align: right;\">\n      <th></th>\n      <th>first</th>\n      <th>last</th>\n      <th>email</th>\n    </tr>\n  </thead>\n  <tbody>\n    <tr>\n      <th>0</th>\n      <td>Corey</td>\n      <td>Schafer</td>\n      <td>CoreyMSchafer@gmail.com</td>\n    </tr>\n    <tr>\n      <th>1</th>\n      <td>Jane</td>\n      <td>Doe</td>\n      <td>JaneDoe@email.com</td>\n    </tr>\n    <tr>\n      <th>2</th>\n      <td>John</td>\n      <td>Doe</td>\n      <td>JohnDoe@email.com</td>\n    </tr>\n    <tr>\n      <th>3</th>\n      <td>Adam</td>\n      <td>Doe</td>\n      <td>A@email.com</td>\n    </tr>\n  </tbody>\n</table>\n</div>"
     },
     "execution_count": 28,
     "metadata": {},
     "output_type": "execute_result"
    }
   ],
   "source": [
    "df.sort_index()"
   ],
   "metadata": {
    "collapsed": false,
    "pycharm": {
     "name": "#%%\n"
    }
   }
  },
  {
   "cell_type": "code",
   "execution_count": 29,
   "outputs": [
    {
     "data": {
      "text/plain": "1        Doe\n2        Doe\n3        Doe\n0    Schafer\nName: last, dtype: object"
     },
     "execution_count": 29,
     "metadata": {},
     "output_type": "execute_result"
    }
   ],
   "source": [
    "df['last'].sort_values(ascending=True)"
   ],
   "metadata": {
    "collapsed": false,
    "pycharm": {
     "name": "#%%\n"
    }
   }
  },
  {
   "cell_type": "code",
   "execution_count": 30,
   "outputs": [
    {
     "data": {
      "text/plain": "   Respondent                                         MainBranch Hobbyist  \\\n0           1                     I am a developer by profession      Yes   \n1           2                     I am a developer by profession       No   \n2           3                        I code primarily as a hobby      Yes   \n3           4                     I am a developer by profession      Yes   \n4           5  I used to be a developer by profession, but no...      Yes   \n\n    Age Age1stCode CompFreq  CompTotal  ConvertedComp             Country  \\\n0   NaN         13  Monthly        NaN            NaN             Germany   \n1   NaN         19      NaN        NaN            NaN      United Kingdom   \n2   NaN         15      NaN        NaN            NaN  Russian Federation   \n3  25.0         18      NaN        NaN            NaN             Albania   \n4  31.0         16      NaN        NaN            NaN       United States   \n\n     CurrencyDesc  ...                  SurveyEase           SurveyLength  \\\n0   European Euro  ...  Neither easy nor difficult  Appropriate in length   \n1  Pound sterling  ...                         NaN                    NaN   \n2             NaN  ...  Neither easy nor difficult  Appropriate in length   \n3    Albanian lek  ...                         NaN                    NaN   \n4             NaN  ...                        Easy              Too short   \n\n  Trans                                     UndergradMajor  \\\n0    No  Computer science, computer engineering, or sof...   \n1   NaN  Computer science, computer engineering, or sof...   \n2   NaN                                                NaN   \n3    No  Computer science, computer engineering, or sof...   \n4    No  Computer science, computer engineering, or sof...   \n\n  WebframeDesireNextYear    WebframeWorkedWith  \\\n0           ASP.NET Core  ASP.NET;ASP.NET Core   \n1                    NaN                   NaN   \n2                    NaN                   NaN   \n3                    NaN                   NaN   \n4   Django;Ruby on Rails         Ruby on Rails   \n\n                              WelcomeChange WorkWeekHrs YearsCode YearsCodePro  \n0   Just as welcome now as I felt last year        50.0        36           27  \n1  Somewhat more welcome now than last year         NaN         7            4  \n2  Somewhat more welcome now than last year         NaN         4          NaN  \n3  Somewhat less welcome now than last year        40.0         7            4  \n4   Just as welcome now as I felt last year         NaN        15            8  \n\n[5 rows x 61 columns]",
      "text/html": "<div>\n<style scoped>\n    .dataframe tbody tr th:only-of-type {\n        vertical-align: middle;\n    }\n\n    .dataframe tbody tr th {\n        vertical-align: top;\n    }\n\n    .dataframe thead th {\n        text-align: right;\n    }\n</style>\n<table border=\"1\" class=\"dataframe\">\n  <thead>\n    <tr style=\"text-align: right;\">\n      <th></th>\n      <th>Respondent</th>\n      <th>MainBranch</th>\n      <th>Hobbyist</th>\n      <th>Age</th>\n      <th>Age1stCode</th>\n      <th>CompFreq</th>\n      <th>CompTotal</th>\n      <th>ConvertedComp</th>\n      <th>Country</th>\n      <th>CurrencyDesc</th>\n      <th>...</th>\n      <th>SurveyEase</th>\n      <th>SurveyLength</th>\n      <th>Trans</th>\n      <th>UndergradMajor</th>\n      <th>WebframeDesireNextYear</th>\n      <th>WebframeWorkedWith</th>\n      <th>WelcomeChange</th>\n      <th>WorkWeekHrs</th>\n      <th>YearsCode</th>\n      <th>YearsCodePro</th>\n    </tr>\n  </thead>\n  <tbody>\n    <tr>\n      <th>0</th>\n      <td>1</td>\n      <td>I am a developer by profession</td>\n      <td>Yes</td>\n      <td>NaN</td>\n      <td>13</td>\n      <td>Monthly</td>\n      <td>NaN</td>\n      <td>NaN</td>\n      <td>Germany</td>\n      <td>European Euro</td>\n      <td>...</td>\n      <td>Neither easy nor difficult</td>\n      <td>Appropriate in length</td>\n      <td>No</td>\n      <td>Computer science, computer engineering, or sof...</td>\n      <td>ASP.NET Core</td>\n      <td>ASP.NET;ASP.NET Core</td>\n      <td>Just as welcome now as I felt last year</td>\n      <td>50.0</td>\n      <td>36</td>\n      <td>27</td>\n    </tr>\n    <tr>\n      <th>1</th>\n      <td>2</td>\n      <td>I am a developer by profession</td>\n      <td>No</td>\n      <td>NaN</td>\n      <td>19</td>\n      <td>NaN</td>\n      <td>NaN</td>\n      <td>NaN</td>\n      <td>United Kingdom</td>\n      <td>Pound sterling</td>\n      <td>...</td>\n      <td>NaN</td>\n      <td>NaN</td>\n      <td>NaN</td>\n      <td>Computer science, computer engineering, or sof...</td>\n      <td>NaN</td>\n      <td>NaN</td>\n      <td>Somewhat more welcome now than last year</td>\n      <td>NaN</td>\n      <td>7</td>\n      <td>4</td>\n    </tr>\n    <tr>\n      <th>2</th>\n      <td>3</td>\n      <td>I code primarily as a hobby</td>\n      <td>Yes</td>\n      <td>NaN</td>\n      <td>15</td>\n      <td>NaN</td>\n      <td>NaN</td>\n      <td>NaN</td>\n      <td>Russian Federation</td>\n      <td>NaN</td>\n      <td>...</td>\n      <td>Neither easy nor difficult</td>\n      <td>Appropriate in length</td>\n      <td>NaN</td>\n      <td>NaN</td>\n      <td>NaN</td>\n      <td>NaN</td>\n      <td>Somewhat more welcome now than last year</td>\n      <td>NaN</td>\n      <td>4</td>\n      <td>NaN</td>\n    </tr>\n    <tr>\n      <th>3</th>\n      <td>4</td>\n      <td>I am a developer by profession</td>\n      <td>Yes</td>\n      <td>25.0</td>\n      <td>18</td>\n      <td>NaN</td>\n      <td>NaN</td>\n      <td>NaN</td>\n      <td>Albania</td>\n      <td>Albanian lek</td>\n      <td>...</td>\n      <td>NaN</td>\n      <td>NaN</td>\n      <td>No</td>\n      <td>Computer science, computer engineering, or sof...</td>\n      <td>NaN</td>\n      <td>NaN</td>\n      <td>Somewhat less welcome now than last year</td>\n      <td>40.0</td>\n      <td>7</td>\n      <td>4</td>\n    </tr>\n    <tr>\n      <th>4</th>\n      <td>5</td>\n      <td>I used to be a developer by profession, but no...</td>\n      <td>Yes</td>\n      <td>31.0</td>\n      <td>16</td>\n      <td>NaN</td>\n      <td>NaN</td>\n      <td>NaN</td>\n      <td>United States</td>\n      <td>NaN</td>\n      <td>...</td>\n      <td>Easy</td>\n      <td>Too short</td>\n      <td>No</td>\n      <td>Computer science, computer engineering, or sof...</td>\n      <td>Django;Ruby on Rails</td>\n      <td>Ruby on Rails</td>\n      <td>Just as welcome now as I felt last year</td>\n      <td>NaN</td>\n      <td>15</td>\n      <td>8</td>\n    </tr>\n  </tbody>\n</table>\n<p>5 rows × 61 columns</p>\n</div>"
     },
     "execution_count": 30,
     "metadata": {},
     "output_type": "execute_result"
    }
   ],
   "source": [
    "df = pd.read_csv('../data/developer_survey_2020/survey_results_public.csv')\n",
    "schema_df = pd.read_csv('../data/developer_survey_2020/survey_results_schema.csv', index_col='Column')\n",
    "df.head()"
   ],
   "metadata": {
    "collapsed": false,
    "pycharm": {
     "name": "#%%\n"
    }
   }
  },
  {
   "cell_type": "code",
   "execution_count": 31,
   "outputs": [
    {
     "data": {
      "text/plain": "       Respondent                      MainBranch Hobbyist  Age  \\\n61540       62788  I am a developer by profession      Yes  NaN   \n63925       65381  I am a developer by profession       No  NaN   \n63993       65456  I am a developer by profession      Yes  NaN   \n38261       38672  I am a developer by profession       No  NaN   \n28270       28374  I am a developer by profession      Yes  NaN   \n...           ...                             ...      ...  ...   \n64425       60055                             NaN       No  NaN   \n64431       61121                             NaN      Yes  NaN   \n64434       61570                             NaN       No  NaN   \n64436       61918                             NaN      Yes  NaN   \n64440       62605                             NaN       No  NaN   \n\n                 Age1stCode CompFreq     CompTotal  ConvertedComp  \\\n61540                   NaN   Weekly  8.000000e+06      1000000.0   \n63925                     8   Weekly  8.740000e+09      1000000.0   \n63993  Younger than 5 years   Weekly  5.521171e+09      1000000.0   \n38261                     5  Monthly  1.225000e+06       231192.0   \n28270                     7   Yearly  1.300000e+05       130000.0   \n...                     ...      ...           ...            ...   \n64425                   NaN      NaN           NaN            NaN   \n64431                   NaN      NaN           NaN            NaN   \n64434                   NaN      NaN           NaN            NaN   \n64436                   NaN      NaN           NaN            NaN   \n64440                   NaN      NaN           NaN            NaN   \n\n           Country          CurrencyDesc  ...                  SurveyEase  \\\n61540  Afghanistan          Albanian lek  ...                         NaN   \n63925  Afghanistan        Afghan afghani  ...                         NaN   \n63993  Afghanistan        Afghan afghani  ...                         NaN   \n38261  Afghanistan         Russian ruble  ...                         NaN   \n28270  Afghanistan  United States dollar  ...  Neither easy nor difficult   \n...            ...                   ...  ...                         ...   \n64425          NaN                   NaN  ...                         NaN   \n64431          NaN                   NaN  ...                         NaN   \n64434          NaN                   NaN  ...                         NaN   \n64436          NaN                   NaN  ...                         NaN   \n64440          NaN                   NaN  ...                         NaN   \n\n                SurveyLength Trans  \\\n61540                    NaN   NaN   \n63925                    NaN   NaN   \n63993                    NaN   NaN   \n38261                    NaN   NaN   \n28270  Appropriate in length    No   \n...                      ...   ...   \n64425                    NaN   NaN   \n64431                    NaN   NaN   \n64434                    NaN   NaN   \n64436                    NaN   NaN   \n64440                    NaN   NaN   \n\n                                          UndergradMajor  \\\n61540                                                NaN   \n63925                                                NaN   \n63993  Information systems, information technology, o...   \n38261                                                NaN   \n28270                          Mathematics or statistics   \n...                                                  ...   \n64425                                                NaN   \n64431                                                NaN   \n64434                                                NaN   \n64436                                                NaN   \n64440                                                NaN   \n\n      WebframeDesireNextYear WebframeWorkedWith  \\\n61540                    NaN                NaN   \n63925                    NaN                NaN   \n63993                    NaN                NaN   \n38261                    NaN                NaN   \n28270                    NaN                NaN   \n...                      ...                ...   \n64425                    NaN                NaN   \n64431                    NaN                NaN   \n64434                    NaN                NaN   \n64436                    NaN                NaN   \n64440                    NaN                NaN   \n\n                                 WelcomeChange WorkWeekHrs  \\\n61540                                      NaN         NaN   \n63925                                      NaN         4.0   \n63993                                      NaN         NaN   \n38261                                      NaN         NaN   \n28270  Just as welcome now as I felt last year         NaN   \n...                                        ...         ...   \n64425                                      NaN         NaN   \n64431                                      NaN         NaN   \n64434                                      NaN         NaN   \n64436                                      NaN         NaN   \n64440                                      NaN         NaN   \n\n                YearsCode        YearsCodePro  \n61540                 NaN                 NaN  \n63925                  30                  35  \n63993  More than 50 years  More than 50 years  \n38261                  40                  40  \n28270                  17                   5  \n...                   ...                 ...  \n64425                 NaN                 NaN  \n64431                 NaN                 NaN  \n64434                 NaN                 NaN  \n64436                 NaN                 NaN  \n64440                 NaN                 NaN  \n\n[64461 rows x 61 columns]",
      "text/html": "<div>\n<style scoped>\n    .dataframe tbody tr th:only-of-type {\n        vertical-align: middle;\n    }\n\n    .dataframe tbody tr th {\n        vertical-align: top;\n    }\n\n    .dataframe thead th {\n        text-align: right;\n    }\n</style>\n<table border=\"1\" class=\"dataframe\">\n  <thead>\n    <tr style=\"text-align: right;\">\n      <th></th>\n      <th>Respondent</th>\n      <th>MainBranch</th>\n      <th>Hobbyist</th>\n      <th>Age</th>\n      <th>Age1stCode</th>\n      <th>CompFreq</th>\n      <th>CompTotal</th>\n      <th>ConvertedComp</th>\n      <th>Country</th>\n      <th>CurrencyDesc</th>\n      <th>...</th>\n      <th>SurveyEase</th>\n      <th>SurveyLength</th>\n      <th>Trans</th>\n      <th>UndergradMajor</th>\n      <th>WebframeDesireNextYear</th>\n      <th>WebframeWorkedWith</th>\n      <th>WelcomeChange</th>\n      <th>WorkWeekHrs</th>\n      <th>YearsCode</th>\n      <th>YearsCodePro</th>\n    </tr>\n  </thead>\n  <tbody>\n    <tr>\n      <th>61540</th>\n      <td>62788</td>\n      <td>I am a developer by profession</td>\n      <td>Yes</td>\n      <td>NaN</td>\n      <td>NaN</td>\n      <td>Weekly</td>\n      <td>8.000000e+06</td>\n      <td>1000000.0</td>\n      <td>Afghanistan</td>\n      <td>Albanian lek</td>\n      <td>...</td>\n      <td>NaN</td>\n      <td>NaN</td>\n      <td>NaN</td>\n      <td>NaN</td>\n      <td>NaN</td>\n      <td>NaN</td>\n      <td>NaN</td>\n      <td>NaN</td>\n      <td>NaN</td>\n      <td>NaN</td>\n    </tr>\n    <tr>\n      <th>63925</th>\n      <td>65381</td>\n      <td>I am a developer by profession</td>\n      <td>No</td>\n      <td>NaN</td>\n      <td>8</td>\n      <td>Weekly</td>\n      <td>8.740000e+09</td>\n      <td>1000000.0</td>\n      <td>Afghanistan</td>\n      <td>Afghan afghani</td>\n      <td>...</td>\n      <td>NaN</td>\n      <td>NaN</td>\n      <td>NaN</td>\n      <td>NaN</td>\n      <td>NaN</td>\n      <td>NaN</td>\n      <td>NaN</td>\n      <td>4.0</td>\n      <td>30</td>\n      <td>35</td>\n    </tr>\n    <tr>\n      <th>63993</th>\n      <td>65456</td>\n      <td>I am a developer by profession</td>\n      <td>Yes</td>\n      <td>NaN</td>\n      <td>Younger than 5 years</td>\n      <td>Weekly</td>\n      <td>5.521171e+09</td>\n      <td>1000000.0</td>\n      <td>Afghanistan</td>\n      <td>Afghan afghani</td>\n      <td>...</td>\n      <td>NaN</td>\n      <td>NaN</td>\n      <td>NaN</td>\n      <td>Information systems, information technology, o...</td>\n      <td>NaN</td>\n      <td>NaN</td>\n      <td>NaN</td>\n      <td>NaN</td>\n      <td>More than 50 years</td>\n      <td>More than 50 years</td>\n    </tr>\n    <tr>\n      <th>38261</th>\n      <td>38672</td>\n      <td>I am a developer by profession</td>\n      <td>No</td>\n      <td>NaN</td>\n      <td>5</td>\n      <td>Monthly</td>\n      <td>1.225000e+06</td>\n      <td>231192.0</td>\n      <td>Afghanistan</td>\n      <td>Russian ruble</td>\n      <td>...</td>\n      <td>NaN</td>\n      <td>NaN</td>\n      <td>NaN</td>\n      <td>NaN</td>\n      <td>NaN</td>\n      <td>NaN</td>\n      <td>NaN</td>\n      <td>NaN</td>\n      <td>40</td>\n      <td>40</td>\n    </tr>\n    <tr>\n      <th>28270</th>\n      <td>28374</td>\n      <td>I am a developer by profession</td>\n      <td>Yes</td>\n      <td>NaN</td>\n      <td>7</td>\n      <td>Yearly</td>\n      <td>1.300000e+05</td>\n      <td>130000.0</td>\n      <td>Afghanistan</td>\n      <td>United States dollar</td>\n      <td>...</td>\n      <td>Neither easy nor difficult</td>\n      <td>Appropriate in length</td>\n      <td>No</td>\n      <td>Mathematics or statistics</td>\n      <td>NaN</td>\n      <td>NaN</td>\n      <td>Just as welcome now as I felt last year</td>\n      <td>NaN</td>\n      <td>17</td>\n      <td>5</td>\n    </tr>\n    <tr>\n      <th>...</th>\n      <td>...</td>\n      <td>...</td>\n      <td>...</td>\n      <td>...</td>\n      <td>...</td>\n      <td>...</td>\n      <td>...</td>\n      <td>...</td>\n      <td>...</td>\n      <td>...</td>\n      <td>...</td>\n      <td>...</td>\n      <td>...</td>\n      <td>...</td>\n      <td>...</td>\n      <td>...</td>\n      <td>...</td>\n      <td>...</td>\n      <td>...</td>\n      <td>...</td>\n      <td>...</td>\n    </tr>\n    <tr>\n      <th>64425</th>\n      <td>60055</td>\n      <td>NaN</td>\n      <td>No</td>\n      <td>NaN</td>\n      <td>NaN</td>\n      <td>NaN</td>\n      <td>NaN</td>\n      <td>NaN</td>\n      <td>NaN</td>\n      <td>NaN</td>\n      <td>...</td>\n      <td>NaN</td>\n      <td>NaN</td>\n      <td>NaN</td>\n      <td>NaN</td>\n      <td>NaN</td>\n      <td>NaN</td>\n      <td>NaN</td>\n      <td>NaN</td>\n      <td>NaN</td>\n      <td>NaN</td>\n    </tr>\n    <tr>\n      <th>64431</th>\n      <td>61121</td>\n      <td>NaN</td>\n      <td>Yes</td>\n      <td>NaN</td>\n      <td>NaN</td>\n      <td>NaN</td>\n      <td>NaN</td>\n      <td>NaN</td>\n      <td>NaN</td>\n      <td>NaN</td>\n      <td>...</td>\n      <td>NaN</td>\n      <td>NaN</td>\n      <td>NaN</td>\n      <td>NaN</td>\n      <td>NaN</td>\n      <td>NaN</td>\n      <td>NaN</td>\n      <td>NaN</td>\n      <td>NaN</td>\n      <td>NaN</td>\n    </tr>\n    <tr>\n      <th>64434</th>\n      <td>61570</td>\n      <td>NaN</td>\n      <td>No</td>\n      <td>NaN</td>\n      <td>NaN</td>\n      <td>NaN</td>\n      <td>NaN</td>\n      <td>NaN</td>\n      <td>NaN</td>\n      <td>NaN</td>\n      <td>...</td>\n      <td>NaN</td>\n      <td>NaN</td>\n      <td>NaN</td>\n      <td>NaN</td>\n      <td>NaN</td>\n      <td>NaN</td>\n      <td>NaN</td>\n      <td>NaN</td>\n      <td>NaN</td>\n      <td>NaN</td>\n    </tr>\n    <tr>\n      <th>64436</th>\n      <td>61918</td>\n      <td>NaN</td>\n      <td>Yes</td>\n      <td>NaN</td>\n      <td>NaN</td>\n      <td>NaN</td>\n      <td>NaN</td>\n      <td>NaN</td>\n      <td>NaN</td>\n      <td>NaN</td>\n      <td>...</td>\n      <td>NaN</td>\n      <td>NaN</td>\n      <td>NaN</td>\n      <td>NaN</td>\n      <td>NaN</td>\n      <td>NaN</td>\n      <td>NaN</td>\n      <td>NaN</td>\n      <td>NaN</td>\n      <td>NaN</td>\n    </tr>\n    <tr>\n      <th>64440</th>\n      <td>62605</td>\n      <td>NaN</td>\n      <td>No</td>\n      <td>NaN</td>\n      <td>NaN</td>\n      <td>NaN</td>\n      <td>NaN</td>\n      <td>NaN</td>\n      <td>NaN</td>\n      <td>NaN</td>\n      <td>...</td>\n      <td>NaN</td>\n      <td>NaN</td>\n      <td>NaN</td>\n      <td>NaN</td>\n      <td>NaN</td>\n      <td>NaN</td>\n      <td>NaN</td>\n      <td>NaN</td>\n      <td>NaN</td>\n      <td>NaN</td>\n    </tr>\n  </tbody>\n</table>\n<p>64461 rows × 61 columns</p>\n</div>"
     },
     "execution_count": 31,
     "metadata": {},
     "output_type": "execute_result"
    }
   ],
   "source": [
    "df.sort_values(by=['Country', 'ConvertedComp'], ascending=[True, False], inplace=True)\n",
    "df"
   ],
   "metadata": {
    "collapsed": false,
    "pycharm": {
     "name": "#%%\n"
    }
   }
  },
  {
   "cell_type": "code",
   "execution_count": 32,
   "outputs": [
    {
     "data": {
      "text/plain": "           Country  ConvertedComp\n61540  Afghanistan      1000000.0\n63925  Afghanistan      1000000.0\n63993  Afghanistan      1000000.0\n38261  Afghanistan       231192.0\n28270  Afghanistan       130000.0\n9806   Afghanistan        23328.0\n62520  Afghanistan        23328.0\n50812  Afghanistan        20950.0\n50469  Afghanistan        20220.0\n43642  Afghanistan        18660.0\n15371  Afghanistan        18000.0\n2918   Afghanistan        16335.0\n26443  Afghanistan        13992.0\n56146  Afghanistan        10884.0\n26676  Afghanistan         8016.0\n30451  Afghanistan         5448.0\n30405  Afghanistan         4668.0\n28704  Afghanistan         4509.0\n34842  Afghanistan         4356.0\n26758  Afghanistan         2328.0\n33755  Afghanistan         1860.0\n35602  Afghanistan          780.0\n17985  Afghanistan          109.0\n35168  Afghanistan            0.0\n895    Afghanistan            NaN\n5948   Afghanistan            NaN\n7586   Afghanistan            NaN\n7678   Afghanistan            NaN\n8599   Afghanistan            NaN\n8824   Afghanistan            NaN\n9454   Afghanistan            NaN\n9585   Afghanistan            NaN\n10317  Afghanistan            NaN\n23708  Afghanistan            NaN\n24124  Afghanistan            NaN\n24908  Afghanistan            NaN\n26477  Afghanistan            NaN\n26496  Afghanistan            NaN\n26525  Afghanistan            NaN\n29781  Afghanistan            NaN\n30491  Afghanistan            NaN\n31199  Afghanistan            NaN\n35052  Afghanistan            NaN\n35511  Afghanistan            NaN\n35541  Afghanistan            NaN\n36354  Afghanistan            NaN\n36887  Afghanistan            NaN\n37284  Afghanistan            NaN\n37371  Afghanistan            NaN\n37601  Afghanistan            NaN",
      "text/html": "<div>\n<style scoped>\n    .dataframe tbody tr th:only-of-type {\n        vertical-align: middle;\n    }\n\n    .dataframe tbody tr th {\n        vertical-align: top;\n    }\n\n    .dataframe thead th {\n        text-align: right;\n    }\n</style>\n<table border=\"1\" class=\"dataframe\">\n  <thead>\n    <tr style=\"text-align: right;\">\n      <th></th>\n      <th>Country</th>\n      <th>ConvertedComp</th>\n    </tr>\n  </thead>\n  <tbody>\n    <tr>\n      <th>61540</th>\n      <td>Afghanistan</td>\n      <td>1000000.0</td>\n    </tr>\n    <tr>\n      <th>63925</th>\n      <td>Afghanistan</td>\n      <td>1000000.0</td>\n    </tr>\n    <tr>\n      <th>63993</th>\n      <td>Afghanistan</td>\n      <td>1000000.0</td>\n    </tr>\n    <tr>\n      <th>38261</th>\n      <td>Afghanistan</td>\n      <td>231192.0</td>\n    </tr>\n    <tr>\n      <th>28270</th>\n      <td>Afghanistan</td>\n      <td>130000.0</td>\n    </tr>\n    <tr>\n      <th>9806</th>\n      <td>Afghanistan</td>\n      <td>23328.0</td>\n    </tr>\n    <tr>\n      <th>62520</th>\n      <td>Afghanistan</td>\n      <td>23328.0</td>\n    </tr>\n    <tr>\n      <th>50812</th>\n      <td>Afghanistan</td>\n      <td>20950.0</td>\n    </tr>\n    <tr>\n      <th>50469</th>\n      <td>Afghanistan</td>\n      <td>20220.0</td>\n    </tr>\n    <tr>\n      <th>43642</th>\n      <td>Afghanistan</td>\n      <td>18660.0</td>\n    </tr>\n    <tr>\n      <th>15371</th>\n      <td>Afghanistan</td>\n      <td>18000.0</td>\n    </tr>\n    <tr>\n      <th>2918</th>\n      <td>Afghanistan</td>\n      <td>16335.0</td>\n    </tr>\n    <tr>\n      <th>26443</th>\n      <td>Afghanistan</td>\n      <td>13992.0</td>\n    </tr>\n    <tr>\n      <th>56146</th>\n      <td>Afghanistan</td>\n      <td>10884.0</td>\n    </tr>\n    <tr>\n      <th>26676</th>\n      <td>Afghanistan</td>\n      <td>8016.0</td>\n    </tr>\n    <tr>\n      <th>30451</th>\n      <td>Afghanistan</td>\n      <td>5448.0</td>\n    </tr>\n    <tr>\n      <th>30405</th>\n      <td>Afghanistan</td>\n      <td>4668.0</td>\n    </tr>\n    <tr>\n      <th>28704</th>\n      <td>Afghanistan</td>\n      <td>4509.0</td>\n    </tr>\n    <tr>\n      <th>34842</th>\n      <td>Afghanistan</td>\n      <td>4356.0</td>\n    </tr>\n    <tr>\n      <th>26758</th>\n      <td>Afghanistan</td>\n      <td>2328.0</td>\n    </tr>\n    <tr>\n      <th>33755</th>\n      <td>Afghanistan</td>\n      <td>1860.0</td>\n    </tr>\n    <tr>\n      <th>35602</th>\n      <td>Afghanistan</td>\n      <td>780.0</td>\n    </tr>\n    <tr>\n      <th>17985</th>\n      <td>Afghanistan</td>\n      <td>109.0</td>\n    </tr>\n    <tr>\n      <th>35168</th>\n      <td>Afghanistan</td>\n      <td>0.0</td>\n    </tr>\n    <tr>\n      <th>895</th>\n      <td>Afghanistan</td>\n      <td>NaN</td>\n    </tr>\n    <tr>\n      <th>5948</th>\n      <td>Afghanistan</td>\n      <td>NaN</td>\n    </tr>\n    <tr>\n      <th>7586</th>\n      <td>Afghanistan</td>\n      <td>NaN</td>\n    </tr>\n    <tr>\n      <th>7678</th>\n      <td>Afghanistan</td>\n      <td>NaN</td>\n    </tr>\n    <tr>\n      <th>8599</th>\n      <td>Afghanistan</td>\n      <td>NaN</td>\n    </tr>\n    <tr>\n      <th>8824</th>\n      <td>Afghanistan</td>\n      <td>NaN</td>\n    </tr>\n    <tr>\n      <th>9454</th>\n      <td>Afghanistan</td>\n      <td>NaN</td>\n    </tr>\n    <tr>\n      <th>9585</th>\n      <td>Afghanistan</td>\n      <td>NaN</td>\n    </tr>\n    <tr>\n      <th>10317</th>\n      <td>Afghanistan</td>\n      <td>NaN</td>\n    </tr>\n    <tr>\n      <th>23708</th>\n      <td>Afghanistan</td>\n      <td>NaN</td>\n    </tr>\n    <tr>\n      <th>24124</th>\n      <td>Afghanistan</td>\n      <td>NaN</td>\n    </tr>\n    <tr>\n      <th>24908</th>\n      <td>Afghanistan</td>\n      <td>NaN</td>\n    </tr>\n    <tr>\n      <th>26477</th>\n      <td>Afghanistan</td>\n      <td>NaN</td>\n    </tr>\n    <tr>\n      <th>26496</th>\n      <td>Afghanistan</td>\n      <td>NaN</td>\n    </tr>\n    <tr>\n      <th>26525</th>\n      <td>Afghanistan</td>\n      <td>NaN</td>\n    </tr>\n    <tr>\n      <th>29781</th>\n      <td>Afghanistan</td>\n      <td>NaN</td>\n    </tr>\n    <tr>\n      <th>30491</th>\n      <td>Afghanistan</td>\n      <td>NaN</td>\n    </tr>\n    <tr>\n      <th>31199</th>\n      <td>Afghanistan</td>\n      <td>NaN</td>\n    </tr>\n    <tr>\n      <th>35052</th>\n      <td>Afghanistan</td>\n      <td>NaN</td>\n    </tr>\n    <tr>\n      <th>35511</th>\n      <td>Afghanistan</td>\n      <td>NaN</td>\n    </tr>\n    <tr>\n      <th>35541</th>\n      <td>Afghanistan</td>\n      <td>NaN</td>\n    </tr>\n    <tr>\n      <th>36354</th>\n      <td>Afghanistan</td>\n      <td>NaN</td>\n    </tr>\n    <tr>\n      <th>36887</th>\n      <td>Afghanistan</td>\n      <td>NaN</td>\n    </tr>\n    <tr>\n      <th>37284</th>\n      <td>Afghanistan</td>\n      <td>NaN</td>\n    </tr>\n    <tr>\n      <th>37371</th>\n      <td>Afghanistan</td>\n      <td>NaN</td>\n    </tr>\n    <tr>\n      <th>37601</th>\n      <td>Afghanistan</td>\n      <td>NaN</td>\n    </tr>\n  </tbody>\n</table>\n</div>"
     },
     "execution_count": 32,
     "metadata": {},
     "output_type": "execute_result"
    }
   ],
   "source": [
    "df[['Country', 'ConvertedComp']].head(50)"
   ],
   "metadata": {
    "collapsed": false,
    "pycharm": {
     "name": "#%%\n"
    }
   }
  },
  {
   "cell_type": "code",
   "execution_count": 33,
   "outputs": [
    {
     "data": {
      "text/plain": "5701     2000000.0\n53175    2000000.0\n42657    2000000.0\n58136    2000000.0\n45753    2000000.0\n121      2000000.0\n123      2000000.0\n191      2000000.0\n663      2000000.0\n697      2000000.0\nName: ConvertedComp, dtype: float64"
     },
     "execution_count": 33,
     "metadata": {},
     "output_type": "execute_result"
    }
   ],
   "source": [
    "df['ConvertedComp'].nlargest(10)"
   ],
   "metadata": {
    "collapsed": false,
    "pycharm": {
     "name": "#%%\n"
    }
   }
  },
  {
   "cell_type": "code",
   "execution_count": 34,
   "outputs": [
    {
     "data": {
      "text/plain": "       Respondent                                         MainBranch Hobbyist  \\\n5701         5725                     I am a developer by profession       No   \n53175       54263                     I am a developer by profession      Yes   \n42657       43430                     I am a developer by profession      Yes   \n58136       59279                     I am a developer by profession      Yes   \n45753       46711                     I am a developer by profession      Yes   \n121           123                     I am a developer by profession      Yes   \n123           125  I am not primarily a developer, but I write co...      Yes   \n191           193                     I am a developer by profession      Yes   \n663           665                     I am a developer by profession      Yes   \n697           699  I am not primarily a developer, but I write co...      Yes   \n\n        Age            Age1stCode CompFreq     CompTotal  ConvertedComp  \\\n5701   26.0                    14  Monthly  1.800000e+05      2000000.0   \n53175  29.0                    10   Weekly  7.000000e+04      2000000.0   \n42657  33.0                    17  Monthly  1.710000e+05      2000000.0   \n58136   NaN                    12  Monthly  3.000000e+05      2000000.0   \n45753   NaN  Younger than 5 years   Yearly  1.000000e+56      2000000.0   \n121    26.0                    12   Weekly  1.200000e+05      2000000.0   \n123    41.0                    30  Monthly  2.000000e+05      2000000.0   \n191    29.0                    16   Weekly  1.200000e+05      2000000.0   \n663    24.0                    13   Weekly  1.500000e+05      2000000.0   \n697    39.0                    16   Weekly  5.200000e+04      2000000.0   \n\n             Country          CurrencyDesc  ...                  SurveyEase  \\\n5701          Canada  United States dollar  ...                        Easy   \n53175         Canada  United States dollar  ...  Neither easy nor difficult   \n42657          Italy  United States dollar  ...                        Easy   \n58136          Nepal  United States dollar  ...  Neither easy nor difficult   \n45753        Nomadic  United States dollar  ...                         NaN   \n121    United States  United States dollar  ...                        Easy   \n123    United States  United States dollar  ...                        Easy   \n191    United States  United States dollar  ...  Neither easy nor difficult   \n663    United States  United States dollar  ...  Neither easy nor difficult   \n697    United States  United States dollar  ...  Neither easy nor difficult   \n\n                SurveyLength Trans  \\\n5701               Too short    No   \n53175               Too long    No   \n42657  Appropriate in length    No   \n58136               Too long   NaN   \n45753                    NaN   NaN   \n121    Appropriate in length    No   \n123    Appropriate in length    No   \n191    Appropriate in length    No   \n663    Appropriate in length    No   \n697    Appropriate in length    No   \n\n                                          UndergradMajor  \\\n5701   Computer science, computer engineering, or sof...   \n53175  Computer science, computer engineering, or sof...   \n42657  Computer science, computer engineering, or sof...   \n58136  Computer science, computer engineering, or sof...   \n45753                                                NaN   \n121    Computer science, computer engineering, or sof...   \n123                                                  NaN   \n191    Computer science, computer engineering, or sof...   \n663    A humanities discipline (such as literature, h...   \n697    Information systems, information technology, o...   \n\n                                  WebframeDesireNextYear  \\\n5701                                              Gatsby   \n53175                                    React.js;Vue.js   \n42657                                                NaN   \n58136                 Django;Drupal;Flask;Gatsby;Laravel   \n45753  Angular;Angular.js;ASP.NET;ASP.NET Core;Django...   \n121                                Flask;jQuery;React.js   \n123                                                  NaN   \n191                                                  NaN   \n663                                             React.js   \n697           Angular;ASP.NET;ASP.NET Core;Express;Flask   \n\n                                      WebframeWorkedWith  \\\n5701                                              Spring   \n53175                               Express;Flask;jQuery   \n42657                                                NaN   \n58136  Angular;Angular.js;ASP.NET;ASP.NET Core;Expres...   \n45753  Angular;Angular.js;ASP.NET;ASP.NET Core;Django...   \n121                                               Spring   \n123                                                  NaN   \n191                                                  NaN   \n663                       Express;React.js;Ruby on Rails   \n697                                                  NaN   \n\n                                           WelcomeChange WorkWeekHrs  \\\n5701   Not applicable - I did not use Stack Overflow ...        40.0   \n53175            Just as welcome now as I felt last year        36.0   \n42657            Just as welcome now as I felt last year        40.0   \n58136              A lot more welcome now than last year        40.0   \n45753                                                NaN       168.0   \n121              Just as welcome now as I felt last year        36.0   \n123              Just as welcome now as I felt last year        40.0   \n191              Just as welcome now as I felt last year        40.0   \n663              Just as welcome now as I felt last year        40.0   \n697                                                  NaN        40.0   \n\n                YearsCode        YearsCodePro  \n5701                   10                   4  \n53175                  14                   5  \n42657                  13                   2  \n58136                  20                  14  \n45753  More than 50 years  More than 50 years  \n121                     8                   3  \n123                    11                  11  \n191                    13                   7  \n663                     4    Less than 1 year  \n697                     5                   2  \n\n[10 rows x 61 columns]",
      "text/html": "<div>\n<style scoped>\n    .dataframe tbody tr th:only-of-type {\n        vertical-align: middle;\n    }\n\n    .dataframe tbody tr th {\n        vertical-align: top;\n    }\n\n    .dataframe thead th {\n        text-align: right;\n    }\n</style>\n<table border=\"1\" class=\"dataframe\">\n  <thead>\n    <tr style=\"text-align: right;\">\n      <th></th>\n      <th>Respondent</th>\n      <th>MainBranch</th>\n      <th>Hobbyist</th>\n      <th>Age</th>\n      <th>Age1stCode</th>\n      <th>CompFreq</th>\n      <th>CompTotal</th>\n      <th>ConvertedComp</th>\n      <th>Country</th>\n      <th>CurrencyDesc</th>\n      <th>...</th>\n      <th>SurveyEase</th>\n      <th>SurveyLength</th>\n      <th>Trans</th>\n      <th>UndergradMajor</th>\n      <th>WebframeDesireNextYear</th>\n      <th>WebframeWorkedWith</th>\n      <th>WelcomeChange</th>\n      <th>WorkWeekHrs</th>\n      <th>YearsCode</th>\n      <th>YearsCodePro</th>\n    </tr>\n  </thead>\n  <tbody>\n    <tr>\n      <th>5701</th>\n      <td>5725</td>\n      <td>I am a developer by profession</td>\n      <td>No</td>\n      <td>26.0</td>\n      <td>14</td>\n      <td>Monthly</td>\n      <td>1.800000e+05</td>\n      <td>2000000.0</td>\n      <td>Canada</td>\n      <td>United States dollar</td>\n      <td>...</td>\n      <td>Easy</td>\n      <td>Too short</td>\n      <td>No</td>\n      <td>Computer science, computer engineering, or sof...</td>\n      <td>Gatsby</td>\n      <td>Spring</td>\n      <td>Not applicable - I did not use Stack Overflow ...</td>\n      <td>40.0</td>\n      <td>10</td>\n      <td>4</td>\n    </tr>\n    <tr>\n      <th>53175</th>\n      <td>54263</td>\n      <td>I am a developer by profession</td>\n      <td>Yes</td>\n      <td>29.0</td>\n      <td>10</td>\n      <td>Weekly</td>\n      <td>7.000000e+04</td>\n      <td>2000000.0</td>\n      <td>Canada</td>\n      <td>United States dollar</td>\n      <td>...</td>\n      <td>Neither easy nor difficult</td>\n      <td>Too long</td>\n      <td>No</td>\n      <td>Computer science, computer engineering, or sof...</td>\n      <td>React.js;Vue.js</td>\n      <td>Express;Flask;jQuery</td>\n      <td>Just as welcome now as I felt last year</td>\n      <td>36.0</td>\n      <td>14</td>\n      <td>5</td>\n    </tr>\n    <tr>\n      <th>42657</th>\n      <td>43430</td>\n      <td>I am a developer by profession</td>\n      <td>Yes</td>\n      <td>33.0</td>\n      <td>17</td>\n      <td>Monthly</td>\n      <td>1.710000e+05</td>\n      <td>2000000.0</td>\n      <td>Italy</td>\n      <td>United States dollar</td>\n      <td>...</td>\n      <td>Easy</td>\n      <td>Appropriate in length</td>\n      <td>No</td>\n      <td>Computer science, computer engineering, or sof...</td>\n      <td>NaN</td>\n      <td>NaN</td>\n      <td>Just as welcome now as I felt last year</td>\n      <td>40.0</td>\n      <td>13</td>\n      <td>2</td>\n    </tr>\n    <tr>\n      <th>58136</th>\n      <td>59279</td>\n      <td>I am a developer by profession</td>\n      <td>Yes</td>\n      <td>NaN</td>\n      <td>12</td>\n      <td>Monthly</td>\n      <td>3.000000e+05</td>\n      <td>2000000.0</td>\n      <td>Nepal</td>\n      <td>United States dollar</td>\n      <td>...</td>\n      <td>Neither easy nor difficult</td>\n      <td>Too long</td>\n      <td>NaN</td>\n      <td>Computer science, computer engineering, or sof...</td>\n      <td>Django;Drupal;Flask;Gatsby;Laravel</td>\n      <td>Angular;Angular.js;ASP.NET;ASP.NET Core;Expres...</td>\n      <td>A lot more welcome now than last year</td>\n      <td>40.0</td>\n      <td>20</td>\n      <td>14</td>\n    </tr>\n    <tr>\n      <th>45753</th>\n      <td>46711</td>\n      <td>I am a developer by profession</td>\n      <td>Yes</td>\n      <td>NaN</td>\n      <td>Younger than 5 years</td>\n      <td>Yearly</td>\n      <td>1.000000e+56</td>\n      <td>2000000.0</td>\n      <td>Nomadic</td>\n      <td>United States dollar</td>\n      <td>...</td>\n      <td>NaN</td>\n      <td>NaN</td>\n      <td>NaN</td>\n      <td>NaN</td>\n      <td>Angular;Angular.js;ASP.NET;ASP.NET Core;Django...</td>\n      <td>Angular;Angular.js;ASP.NET;ASP.NET Core;Django...</td>\n      <td>NaN</td>\n      <td>168.0</td>\n      <td>More than 50 years</td>\n      <td>More than 50 years</td>\n    </tr>\n    <tr>\n      <th>121</th>\n      <td>123</td>\n      <td>I am a developer by profession</td>\n      <td>Yes</td>\n      <td>26.0</td>\n      <td>12</td>\n      <td>Weekly</td>\n      <td>1.200000e+05</td>\n      <td>2000000.0</td>\n      <td>United States</td>\n      <td>United States dollar</td>\n      <td>...</td>\n      <td>Easy</td>\n      <td>Appropriate in length</td>\n      <td>No</td>\n      <td>Computer science, computer engineering, or sof...</td>\n      <td>Flask;jQuery;React.js</td>\n      <td>Spring</td>\n      <td>Just as welcome now as I felt last year</td>\n      <td>36.0</td>\n      <td>8</td>\n      <td>3</td>\n    </tr>\n    <tr>\n      <th>123</th>\n      <td>125</td>\n      <td>I am not primarily a developer, but I write co...</td>\n      <td>Yes</td>\n      <td>41.0</td>\n      <td>30</td>\n      <td>Monthly</td>\n      <td>2.000000e+05</td>\n      <td>2000000.0</td>\n      <td>United States</td>\n      <td>United States dollar</td>\n      <td>...</td>\n      <td>Easy</td>\n      <td>Appropriate in length</td>\n      <td>No</td>\n      <td>NaN</td>\n      <td>NaN</td>\n      <td>NaN</td>\n      <td>Just as welcome now as I felt last year</td>\n      <td>40.0</td>\n      <td>11</td>\n      <td>11</td>\n    </tr>\n    <tr>\n      <th>191</th>\n      <td>193</td>\n      <td>I am a developer by profession</td>\n      <td>Yes</td>\n      <td>29.0</td>\n      <td>16</td>\n      <td>Weekly</td>\n      <td>1.200000e+05</td>\n      <td>2000000.0</td>\n      <td>United States</td>\n      <td>United States dollar</td>\n      <td>...</td>\n      <td>Neither easy nor difficult</td>\n      <td>Appropriate in length</td>\n      <td>No</td>\n      <td>Computer science, computer engineering, or sof...</td>\n      <td>NaN</td>\n      <td>NaN</td>\n      <td>Just as welcome now as I felt last year</td>\n      <td>40.0</td>\n      <td>13</td>\n      <td>7</td>\n    </tr>\n    <tr>\n      <th>663</th>\n      <td>665</td>\n      <td>I am a developer by profession</td>\n      <td>Yes</td>\n      <td>24.0</td>\n      <td>13</td>\n      <td>Weekly</td>\n      <td>1.500000e+05</td>\n      <td>2000000.0</td>\n      <td>United States</td>\n      <td>United States dollar</td>\n      <td>...</td>\n      <td>Neither easy nor difficult</td>\n      <td>Appropriate in length</td>\n      <td>No</td>\n      <td>A humanities discipline (such as literature, h...</td>\n      <td>React.js</td>\n      <td>Express;React.js;Ruby on Rails</td>\n      <td>Just as welcome now as I felt last year</td>\n      <td>40.0</td>\n      <td>4</td>\n      <td>Less than 1 year</td>\n    </tr>\n    <tr>\n      <th>697</th>\n      <td>699</td>\n      <td>I am not primarily a developer, but I write co...</td>\n      <td>Yes</td>\n      <td>39.0</td>\n      <td>16</td>\n      <td>Weekly</td>\n      <td>5.200000e+04</td>\n      <td>2000000.0</td>\n      <td>United States</td>\n      <td>United States dollar</td>\n      <td>...</td>\n      <td>Neither easy nor difficult</td>\n      <td>Appropriate in length</td>\n      <td>No</td>\n      <td>Information systems, information technology, o...</td>\n      <td>Angular;ASP.NET;ASP.NET Core;Express;Flask</td>\n      <td>NaN</td>\n      <td>NaN</td>\n      <td>40.0</td>\n      <td>5</td>\n      <td>2</td>\n    </tr>\n  </tbody>\n</table>\n<p>10 rows × 61 columns</p>\n</div>"
     },
     "execution_count": 34,
     "metadata": {},
     "output_type": "execute_result"
    }
   ],
   "source": [
    "df.nlargest(10, 'ConvertedComp')"
   ],
   "metadata": {
    "collapsed": false,
    "pycharm": {
     "name": "#%%\n"
    }
   }
  }
 ],
 "metadata": {
  "kernelspec": {
   "display_name": "Python 3",
   "language": "python",
   "name": "python3"
  },
  "language_info": {
   "codemirror_mode": {
    "name": "ipython",
    "version": 2
   },
   "file_extension": ".py",
   "mimetype": "text/x-python",
   "name": "python",
   "nbconvert_exporter": "python",
   "pygments_lexer": "ipython2",
   "version": "2.7.6"
  }
 },
 "nbformat": 4,
 "nbformat_minor": 0
}