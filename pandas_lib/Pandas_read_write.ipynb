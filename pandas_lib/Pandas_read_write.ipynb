{
 "cells": [
  {
   "cell_type": "code",
   "execution_count": 25,
   "metadata": {
    "collapsed": true
   },
   "outputs": [],
   "source": [
    "import  pandas as pd"
   ]
  },
  {
   "cell_type": "code",
   "execution_count": 26,
   "outputs": [
    {
     "data": {
      "text/plain": "                                                   MainBranch Hobbyist   Age  \\\nRespondent                                                                     \n1                              I am a developer by profession      Yes   NaN   \n2                              I am a developer by profession       No   NaN   \n3                                 I code primarily as a hobby      Yes   NaN   \n4                              I am a developer by profession      Yes  25.0   \n5           I used to be a developer by profession, but no...      Yes  31.0   \n...                                                       ...      ...   ...   \n64858                                                     NaN      Yes   NaN   \n64867                                                     NaN      Yes   NaN   \n64898                                                     NaN      Yes   NaN   \n64925                                                     NaN      Yes   NaN   \n65112                                                     NaN      Yes   NaN   \n\n           Age1stCode CompFreq  CompTotal  ConvertedComp             Country  \\\nRespondent                                                                     \n1                  13  Monthly        NaN            NaN             Germany   \n2                  19      NaN        NaN            NaN      United Kingdom   \n3                  15      NaN        NaN            NaN  Russian Federation   \n4                  18      NaN        NaN            NaN             Albania   \n5                  16      NaN        NaN            NaN       United States   \n...               ...      ...        ...            ...                 ...   \n64858              16      NaN        NaN            NaN       United States   \n64867             NaN      NaN        NaN            NaN             Morocco   \n64898             NaN      NaN        NaN            NaN            Viet Nam   \n64925             NaN      NaN        NaN            NaN              Poland   \n65112             NaN      NaN        NaN            NaN               Spain   \n\n              CurrencyDesc CurrencySymbol  ...                  SurveyEase  \\\nRespondent                                 ...                               \n1            European Euro            EUR  ...  Neither easy nor difficult   \n2           Pound sterling            GBP  ...                         NaN   \n3                      NaN            NaN  ...  Neither easy nor difficult   \n4             Albanian lek            ALL  ...                         NaN   \n5                      NaN            NaN  ...                        Easy   \n...                    ...            ...  ...                         ...   \n64858                  NaN            NaN  ...                         NaN   \n64867                  NaN            NaN  ...                         NaN   \n64898                  NaN            NaN  ...                         NaN   \n64925                  NaN            NaN  ...                         NaN   \n65112                  NaN            NaN  ...                         NaN   \n\n                     SurveyLength Trans  \\\nRespondent                                \n1           Appropriate in length    No   \n2                             NaN   NaN   \n3           Appropriate in length   NaN   \n4                             NaN    No   \n5                       Too short    No   \n...                           ...   ...   \n64858                         NaN   NaN   \n64867                         NaN   NaN   \n64898                         NaN   NaN   \n64925                         NaN   NaN   \n65112                         NaN   NaN   \n\n                                               UndergradMajor  \\\nRespondent                                                      \n1           Computer science, computer engineering, or sof...   \n2           Computer science, computer engineering, or sof...   \n3                                                         NaN   \n4           Computer science, computer engineering, or sof...   \n5           Computer science, computer engineering, or sof...   \n...                                                       ...   \n64858       Computer science, computer engineering, or sof...   \n64867                                                     NaN   \n64898                                                     NaN   \n64925                                                     NaN   \n65112       Computer science, computer engineering, or sof...   \n\n                 WebframeDesireNextYear  \\\nRespondent                                \n1                          ASP.NET Core   \n2                                   NaN   \n3                                   NaN   \n4                                   NaN   \n5                  Django;Ruby on Rails   \n...                                 ...   \n64858                               NaN   \n64867                               NaN   \n64898                               NaN   \n64925       Angular;Angular.js;React.js   \n65112               ASP.NET Core;jQuery   \n\n                                WebframeWorkedWith  \\\nRespondent                                           \n1                             ASP.NET;ASP.NET Core   \n2                                              NaN   \n3                                              NaN   \n4                                              NaN   \n5                                    Ruby on Rails   \n...                                            ...   \n64858                                          NaN   \n64867                                          NaN   \n64898                                          NaN   \n64925                                          NaN   \n65112       Angular;Angular.js;ASP.NET Core;jQuery   \n\n                                       WelcomeChange WorkWeekHrs YearsCode  \\\nRespondent                                                                   \n1            Just as welcome now as I felt last year        50.0        36   \n2           Somewhat more welcome now than last year         NaN         7   \n3           Somewhat more welcome now than last year         NaN         4   \n4           Somewhat less welcome now than last year        40.0         7   \n5            Just as welcome now as I felt last year         NaN        15   \n...                                              ...         ...       ...   \n64858                                            NaN         NaN        10   \n64867                                            NaN         NaN       NaN   \n64898                                            NaN         NaN       NaN   \n64925                                            NaN         NaN       NaN   \n65112                                            NaN         NaN       NaN   \n\n                YearsCodePro  \nRespondent                    \n1                         27  \n2                          4  \n3                        NaN  \n4                          4  \n5                          8  \n...                      ...  \n64858       Less than 1 year  \n64867                    NaN  \n64898                    NaN  \n64925                    NaN  \n65112                    NaN  \n\n[64461 rows x 60 columns]",
      "text/html": "<div>\n<style scoped>\n    .dataframe tbody tr th:only-of-type {\n        vertical-align: middle;\n    }\n\n    .dataframe tbody tr th {\n        vertical-align: top;\n    }\n\n    .dataframe thead th {\n        text-align: right;\n    }\n</style>\n<table border=\"1\" class=\"dataframe\">\n  <thead>\n    <tr style=\"text-align: right;\">\n      <th></th>\n      <th>MainBranch</th>\n      <th>Hobbyist</th>\n      <th>Age</th>\n      <th>Age1stCode</th>\n      <th>CompFreq</th>\n      <th>CompTotal</th>\n      <th>ConvertedComp</th>\n      <th>Country</th>\n      <th>CurrencyDesc</th>\n      <th>CurrencySymbol</th>\n      <th>...</th>\n      <th>SurveyEase</th>\n      <th>SurveyLength</th>\n      <th>Trans</th>\n      <th>UndergradMajor</th>\n      <th>WebframeDesireNextYear</th>\n      <th>WebframeWorkedWith</th>\n      <th>WelcomeChange</th>\n      <th>WorkWeekHrs</th>\n      <th>YearsCode</th>\n      <th>YearsCodePro</th>\n    </tr>\n    <tr>\n      <th>Respondent</th>\n      <th></th>\n      <th></th>\n      <th></th>\n      <th></th>\n      <th></th>\n      <th></th>\n      <th></th>\n      <th></th>\n      <th></th>\n      <th></th>\n      <th></th>\n      <th></th>\n      <th></th>\n      <th></th>\n      <th></th>\n      <th></th>\n      <th></th>\n      <th></th>\n      <th></th>\n      <th></th>\n      <th></th>\n    </tr>\n  </thead>\n  <tbody>\n    <tr>\n      <th>1</th>\n      <td>I am a developer by profession</td>\n      <td>Yes</td>\n      <td>NaN</td>\n      <td>13</td>\n      <td>Monthly</td>\n      <td>NaN</td>\n      <td>NaN</td>\n      <td>Germany</td>\n      <td>European Euro</td>\n      <td>EUR</td>\n      <td>...</td>\n      <td>Neither easy nor difficult</td>\n      <td>Appropriate in length</td>\n      <td>No</td>\n      <td>Computer science, computer engineering, or sof...</td>\n      <td>ASP.NET Core</td>\n      <td>ASP.NET;ASP.NET Core</td>\n      <td>Just as welcome now as I felt last year</td>\n      <td>50.0</td>\n      <td>36</td>\n      <td>27</td>\n    </tr>\n    <tr>\n      <th>2</th>\n      <td>I am a developer by profession</td>\n      <td>No</td>\n      <td>NaN</td>\n      <td>19</td>\n      <td>NaN</td>\n      <td>NaN</td>\n      <td>NaN</td>\n      <td>United Kingdom</td>\n      <td>Pound sterling</td>\n      <td>GBP</td>\n      <td>...</td>\n      <td>NaN</td>\n      <td>NaN</td>\n      <td>NaN</td>\n      <td>Computer science, computer engineering, or sof...</td>\n      <td>NaN</td>\n      <td>NaN</td>\n      <td>Somewhat more welcome now than last year</td>\n      <td>NaN</td>\n      <td>7</td>\n      <td>4</td>\n    </tr>\n    <tr>\n      <th>3</th>\n      <td>I code primarily as a hobby</td>\n      <td>Yes</td>\n      <td>NaN</td>\n      <td>15</td>\n      <td>NaN</td>\n      <td>NaN</td>\n      <td>NaN</td>\n      <td>Russian Federation</td>\n      <td>NaN</td>\n      <td>NaN</td>\n      <td>...</td>\n      <td>Neither easy nor difficult</td>\n      <td>Appropriate in length</td>\n      <td>NaN</td>\n      <td>NaN</td>\n      <td>NaN</td>\n      <td>NaN</td>\n      <td>Somewhat more welcome now than last year</td>\n      <td>NaN</td>\n      <td>4</td>\n      <td>NaN</td>\n    </tr>\n    <tr>\n      <th>4</th>\n      <td>I am a developer by profession</td>\n      <td>Yes</td>\n      <td>25.0</td>\n      <td>18</td>\n      <td>NaN</td>\n      <td>NaN</td>\n      <td>NaN</td>\n      <td>Albania</td>\n      <td>Albanian lek</td>\n      <td>ALL</td>\n      <td>...</td>\n      <td>NaN</td>\n      <td>NaN</td>\n      <td>No</td>\n      <td>Computer science, computer engineering, or sof...</td>\n      <td>NaN</td>\n      <td>NaN</td>\n      <td>Somewhat less welcome now than last year</td>\n      <td>40.0</td>\n      <td>7</td>\n      <td>4</td>\n    </tr>\n    <tr>\n      <th>5</th>\n      <td>I used to be a developer by profession, but no...</td>\n      <td>Yes</td>\n      <td>31.0</td>\n      <td>16</td>\n      <td>NaN</td>\n      <td>NaN</td>\n      <td>NaN</td>\n      <td>United States</td>\n      <td>NaN</td>\n      <td>NaN</td>\n      <td>...</td>\n      <td>Easy</td>\n      <td>Too short</td>\n      <td>No</td>\n      <td>Computer science, computer engineering, or sof...</td>\n      <td>Django;Ruby on Rails</td>\n      <td>Ruby on Rails</td>\n      <td>Just as welcome now as I felt last year</td>\n      <td>NaN</td>\n      <td>15</td>\n      <td>8</td>\n    </tr>\n    <tr>\n      <th>...</th>\n      <td>...</td>\n      <td>...</td>\n      <td>...</td>\n      <td>...</td>\n      <td>...</td>\n      <td>...</td>\n      <td>...</td>\n      <td>...</td>\n      <td>...</td>\n      <td>...</td>\n      <td>...</td>\n      <td>...</td>\n      <td>...</td>\n      <td>...</td>\n      <td>...</td>\n      <td>...</td>\n      <td>...</td>\n      <td>...</td>\n      <td>...</td>\n      <td>...</td>\n      <td>...</td>\n    </tr>\n    <tr>\n      <th>64858</th>\n      <td>NaN</td>\n      <td>Yes</td>\n      <td>NaN</td>\n      <td>16</td>\n      <td>NaN</td>\n      <td>NaN</td>\n      <td>NaN</td>\n      <td>United States</td>\n      <td>NaN</td>\n      <td>NaN</td>\n      <td>...</td>\n      <td>NaN</td>\n      <td>NaN</td>\n      <td>NaN</td>\n      <td>Computer science, computer engineering, or sof...</td>\n      <td>NaN</td>\n      <td>NaN</td>\n      <td>NaN</td>\n      <td>NaN</td>\n      <td>10</td>\n      <td>Less than 1 year</td>\n    </tr>\n    <tr>\n      <th>64867</th>\n      <td>NaN</td>\n      <td>Yes</td>\n      <td>NaN</td>\n      <td>NaN</td>\n      <td>NaN</td>\n      <td>NaN</td>\n      <td>NaN</td>\n      <td>Morocco</td>\n      <td>NaN</td>\n      <td>NaN</td>\n      <td>...</td>\n      <td>NaN</td>\n      <td>NaN</td>\n      <td>NaN</td>\n      <td>NaN</td>\n      <td>NaN</td>\n      <td>NaN</td>\n      <td>NaN</td>\n      <td>NaN</td>\n      <td>NaN</td>\n      <td>NaN</td>\n    </tr>\n    <tr>\n      <th>64898</th>\n      <td>NaN</td>\n      <td>Yes</td>\n      <td>NaN</td>\n      <td>NaN</td>\n      <td>NaN</td>\n      <td>NaN</td>\n      <td>NaN</td>\n      <td>Viet Nam</td>\n      <td>NaN</td>\n      <td>NaN</td>\n      <td>...</td>\n      <td>NaN</td>\n      <td>NaN</td>\n      <td>NaN</td>\n      <td>NaN</td>\n      <td>NaN</td>\n      <td>NaN</td>\n      <td>NaN</td>\n      <td>NaN</td>\n      <td>NaN</td>\n      <td>NaN</td>\n    </tr>\n    <tr>\n      <th>64925</th>\n      <td>NaN</td>\n      <td>Yes</td>\n      <td>NaN</td>\n      <td>NaN</td>\n      <td>NaN</td>\n      <td>NaN</td>\n      <td>NaN</td>\n      <td>Poland</td>\n      <td>NaN</td>\n      <td>NaN</td>\n      <td>...</td>\n      <td>NaN</td>\n      <td>NaN</td>\n      <td>NaN</td>\n      <td>NaN</td>\n      <td>Angular;Angular.js;React.js</td>\n      <td>NaN</td>\n      <td>NaN</td>\n      <td>NaN</td>\n      <td>NaN</td>\n      <td>NaN</td>\n    </tr>\n    <tr>\n      <th>65112</th>\n      <td>NaN</td>\n      <td>Yes</td>\n      <td>NaN</td>\n      <td>NaN</td>\n      <td>NaN</td>\n      <td>NaN</td>\n      <td>NaN</td>\n      <td>Spain</td>\n      <td>NaN</td>\n      <td>NaN</td>\n      <td>...</td>\n      <td>NaN</td>\n      <td>NaN</td>\n      <td>NaN</td>\n      <td>Computer science, computer engineering, or sof...</td>\n      <td>ASP.NET Core;jQuery</td>\n      <td>Angular;Angular.js;ASP.NET Core;jQuery</td>\n      <td>NaN</td>\n      <td>NaN</td>\n      <td>NaN</td>\n      <td>NaN</td>\n    </tr>\n  </tbody>\n</table>\n<p>64461 rows × 60 columns</p>\n</div>"
     },
     "execution_count": 26,
     "metadata": {},
     "output_type": "execute_result"
    }
   ],
   "source": [
    "df = pd.read_csv('../data/developer_survey_2020/survey_results_public.csv', index_col='Respondent')\n",
    "schema_df = pd.read_csv('../data/developer_survey_2020/survey_results_schema.csv', index_col='Column')\n",
    "df"
   ],
   "metadata": {
    "collapsed": false,
    "pycharm": {
     "name": "#%%\n"
    }
   }
  },
  {
   "cell_type": "code",
   "source": [
    "filt = (df['Country'] == 'India')\n",
    "india_df = df.loc[filt]\n",
    "india_df.head()\n",
    "\n"
   ],
   "metadata": {
    "collapsed": false,
    "pycharm": {
     "name": "#%%\n"
    }
   },
   "execution_count": 27,
   "outputs": [
    {
     "data": {
      "text/plain": "                                        MainBranch Hobbyist   Age Age1stCode  \\\nRespondent                                                                     \n7                   I am a developer by profession      Yes   NaN         18   \n22                  I am a developer by profession      Yes   NaN         18   \n58                  I am a developer by profession      Yes   NaN         22   \n63          I am a student who is learning to code      Yes  21.0         17   \n149                 I am a developer by profession      Yes  36.0         31   \n\n           CompFreq   CompTotal  ConvertedComp Country          CurrencyDesc  \\\nRespondent                                                                     \n7           Monthly         NaN            NaN   India  United States dollar   \n22          Monthly         NaN            NaN   India          Indian rupee   \n58              NaN         NaN            NaN   India          Indian rupee   \n63              NaN         NaN            NaN   India                   NaN   \n149          Yearly  21000000.0       293196.0   India          Indian rupee   \n\n           CurrencySymbol  ...                  SurveyEase  \\\nRespondent                 ...                               \n7                     USD  ...                         NaN   \n22                    INR  ...                        Easy   \n58                    INR  ...  Neither easy nor difficult   \n63                    NaN  ...                        Easy   \n149                   INR  ...  Neither easy nor difficult   \n\n                     SurveyLength Trans  \\\nRespondent                                \n7                             NaN   NaN   \n22          Appropriate in length   NaN   \n58                       Too long   NaN   \n63          Appropriate in length    No   \n149         Appropriate in length    No   \n\n                                               UndergradMajor  \\\nRespondent                                                      \n7           Computer science, computer engineering, or sof...   \n22          Computer science, computer engineering, or sof...   \n58                              Web development or web design   \n63                                                        NaN   \n149         Computer science, computer engineering, or sof...   \n\n                                    WebframeDesireNextYear  \\\nRespondent                                                   \n7                                                      NaN   \n22                                                     NaN   \n58          Angular;Angular.js;ASP.NET;ASP.NET Core;jQuery   \n63                 Angular.js;Django;jQuery;Laravel;Vue.js   \n149                                                    NaN   \n\n                                        WebframeWorkedWith  \\\nRespondent                                                   \n7                                                      NaN   \n22                                                     NaN   \n58          Angular;Angular.js;ASP.NET;ASP.NET Core;jQuery   \n63                                                     NaN   \n149                                                    NaN   \n\n                                                WelcomeChange WorkWeekHrs  \\\nRespondent                                                                  \n7                       A lot more welcome now than last year         NaN   \n22                    Just as welcome now as I felt last year        50.0   \n58                                                        NaN         NaN   \n63          Not applicable - I did not use Stack Overflow ...         NaN   \n149                  Somewhat more welcome now than last year        70.0   \n\n           YearsCode YearsCodePro  \nRespondent                         \n7                  6            4  \n22                10            2  \n58               NaN          NaN  \n63                 4          NaN  \n149                5            3  \n\n[5 rows x 60 columns]",
      "text/html": "<div>\n<style scoped>\n    .dataframe tbody tr th:only-of-type {\n        vertical-align: middle;\n    }\n\n    .dataframe tbody tr th {\n        vertical-align: top;\n    }\n\n    .dataframe thead th {\n        text-align: right;\n    }\n</style>\n<table border=\"1\" class=\"dataframe\">\n  <thead>\n    <tr style=\"text-align: right;\">\n      <th></th>\n      <th>MainBranch</th>\n      <th>Hobbyist</th>\n      <th>Age</th>\n      <th>Age1stCode</th>\n      <th>CompFreq</th>\n      <th>CompTotal</th>\n      <th>ConvertedComp</th>\n      <th>Country</th>\n      <th>CurrencyDesc</th>\n      <th>CurrencySymbol</th>\n      <th>...</th>\n      <th>SurveyEase</th>\n      <th>SurveyLength</th>\n      <th>Trans</th>\n      <th>UndergradMajor</th>\n      <th>WebframeDesireNextYear</th>\n      <th>WebframeWorkedWith</th>\n      <th>WelcomeChange</th>\n      <th>WorkWeekHrs</th>\n      <th>YearsCode</th>\n      <th>YearsCodePro</th>\n    </tr>\n    <tr>\n      <th>Respondent</th>\n      <th></th>\n      <th></th>\n      <th></th>\n      <th></th>\n      <th></th>\n      <th></th>\n      <th></th>\n      <th></th>\n      <th></th>\n      <th></th>\n      <th></th>\n      <th></th>\n      <th></th>\n      <th></th>\n      <th></th>\n      <th></th>\n      <th></th>\n      <th></th>\n      <th></th>\n      <th></th>\n      <th></th>\n    </tr>\n  </thead>\n  <tbody>\n    <tr>\n      <th>7</th>\n      <td>I am a developer by profession</td>\n      <td>Yes</td>\n      <td>NaN</td>\n      <td>18</td>\n      <td>Monthly</td>\n      <td>NaN</td>\n      <td>NaN</td>\n      <td>India</td>\n      <td>United States dollar</td>\n      <td>USD</td>\n      <td>...</td>\n      <td>NaN</td>\n      <td>NaN</td>\n      <td>NaN</td>\n      <td>Computer science, computer engineering, or sof...</td>\n      <td>NaN</td>\n      <td>NaN</td>\n      <td>A lot more welcome now than last year</td>\n      <td>NaN</td>\n      <td>6</td>\n      <td>4</td>\n    </tr>\n    <tr>\n      <th>22</th>\n      <td>I am a developer by profession</td>\n      <td>Yes</td>\n      <td>NaN</td>\n      <td>18</td>\n      <td>Monthly</td>\n      <td>NaN</td>\n      <td>NaN</td>\n      <td>India</td>\n      <td>Indian rupee</td>\n      <td>INR</td>\n      <td>...</td>\n      <td>Easy</td>\n      <td>Appropriate in length</td>\n      <td>NaN</td>\n      <td>Computer science, computer engineering, or sof...</td>\n      <td>NaN</td>\n      <td>NaN</td>\n      <td>Just as welcome now as I felt last year</td>\n      <td>50.0</td>\n      <td>10</td>\n      <td>2</td>\n    </tr>\n    <tr>\n      <th>58</th>\n      <td>I am a developer by profession</td>\n      <td>Yes</td>\n      <td>NaN</td>\n      <td>22</td>\n      <td>NaN</td>\n      <td>NaN</td>\n      <td>NaN</td>\n      <td>India</td>\n      <td>Indian rupee</td>\n      <td>INR</td>\n      <td>...</td>\n      <td>Neither easy nor difficult</td>\n      <td>Too long</td>\n      <td>NaN</td>\n      <td>Web development or web design</td>\n      <td>Angular;Angular.js;ASP.NET;ASP.NET Core;jQuery</td>\n      <td>Angular;Angular.js;ASP.NET;ASP.NET Core;jQuery</td>\n      <td>NaN</td>\n      <td>NaN</td>\n      <td>NaN</td>\n      <td>NaN</td>\n    </tr>\n    <tr>\n      <th>63</th>\n      <td>I am a student who is learning to code</td>\n      <td>Yes</td>\n      <td>21.0</td>\n      <td>17</td>\n      <td>NaN</td>\n      <td>NaN</td>\n      <td>NaN</td>\n      <td>India</td>\n      <td>NaN</td>\n      <td>NaN</td>\n      <td>...</td>\n      <td>Easy</td>\n      <td>Appropriate in length</td>\n      <td>No</td>\n      <td>NaN</td>\n      <td>Angular.js;Django;jQuery;Laravel;Vue.js</td>\n      <td>NaN</td>\n      <td>Not applicable - I did not use Stack Overflow ...</td>\n      <td>NaN</td>\n      <td>4</td>\n      <td>NaN</td>\n    </tr>\n    <tr>\n      <th>149</th>\n      <td>I am a developer by profession</td>\n      <td>Yes</td>\n      <td>36.0</td>\n      <td>31</td>\n      <td>Yearly</td>\n      <td>21000000.0</td>\n      <td>293196.0</td>\n      <td>India</td>\n      <td>Indian rupee</td>\n      <td>INR</td>\n      <td>...</td>\n      <td>Neither easy nor difficult</td>\n      <td>Appropriate in length</td>\n      <td>No</td>\n      <td>Computer science, computer engineering, or sof...</td>\n      <td>NaN</td>\n      <td>NaN</td>\n      <td>Somewhat more welcome now than last year</td>\n      <td>70.0</td>\n      <td>5</td>\n      <td>3</td>\n    </tr>\n  </tbody>\n</table>\n<p>5 rows × 60 columns</p>\n</div>"
     },
     "execution_count": 27,
     "metadata": {},
     "output_type": "execute_result"
    }
   ]
  },
  {
   "cell_type": "code",
   "execution_count": 28,
   "outputs": [],
   "source": [
    "india_df.to_csv('../data/developer_survey_2020/india_data.csv')"
   ],
   "metadata": {
    "collapsed": false,
    "pycharm": {
     "name": "#%%\n"
    }
   }
  },
  {
   "cell_type": "code",
   "execution_count": 29,
   "outputs": [],
   "source": [
    "\n",
    "india_df.to_csv('../data/developer_survey_2020/india_data.tsv', sep='\\t')"
   ],
   "metadata": {
    "collapsed": false,
    "pycharm": {
     "name": "#%%\n"
    }
   }
  },
  {
   "cell_type": "code",
   "execution_count": 30,
   "outputs": [],
   "source": [
    "india_df.to_excel('../data/developer_survey_2020/india_data.xlsx')"
   ],
   "metadata": {
    "collapsed": false,
    "pycharm": {
     "name": "#%%\n"
    }
   }
  }
 ],
 "metadata": {
  "kernelspec": {
   "display_name": "Python 3",
   "language": "python",
   "name": "python3"
  },
  "language_info": {
   "codemirror_mode": {
    "name": "ipython",
    "version": 2
   },
   "file_extension": ".py",
   "mimetype": "text/x-python",
   "name": "python",
   "nbconvert_exporter": "python",
   "pygments_lexer": "ipython2",
   "version": "2.7.6"
  }
 },
 "nbformat": 4,
 "nbformat_minor": 0
}