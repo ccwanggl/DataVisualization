{
 "cells": [
  {
   "cell_type": "markdown",
   "metadata": {
    "collapsed": true,
    "pycharm": {
     "name": "#%% md\n"
    }
   },
   "source": []
  },
  {
   "cell_type": "code",
   "source": [
    "people = {\n",
    "    \"first\": ['Corey', 'Jane', 'John'],\n",
    "    \"last\": ['Schafer', 'Doe', 'Doe'],\n",
    "    \"email\":['CoreyMSchafer@gmail.com','JaneDoe@email.com' ,'JohnDoe@email.com']\n",
    "}\n"
   ],
   "metadata": {
    "collapsed": false,
    "pycharm": {
     "name": "#%%\n"
    }
   },
   "execution_count": 3,
   "outputs": []
  },
  {
   "cell_type": "code",
   "execution_count": 1,
   "outputs": [],
   "source": [
    "import pandas as pd"
   ],
   "metadata": {
    "collapsed": false,
    "pycharm": {
     "name": "#%%\n"
    }
   }
  },
  {
   "cell_type": "code",
   "execution_count": 7,
   "outputs": [
    {
     "data": {
      "text/plain": "   first     last                    email\n0  Corey  Schafer  CoreyMSchafer@gmail.com\n1   Jane      Doe        JaneDoe@email.com\n2   John      Doe        JohnDoe@email.com",
      "text/html": "<div>\n<style scoped>\n    .dataframe tbody tr th:only-of-type {\n        vertical-align: middle;\n    }\n\n    .dataframe tbody tr th {\n        vertical-align: top;\n    }\n\n    .dataframe thead th {\n        text-align: right;\n    }\n</style>\n<table border=\"1\" class=\"dataframe\">\n  <thead>\n    <tr style=\"text-align: right;\">\n      <th></th>\n      <th>first</th>\n      <th>last</th>\n      <th>email</th>\n    </tr>\n  </thead>\n  <tbody>\n    <tr>\n      <th>0</th>\n      <td>Corey</td>\n      <td>Schafer</td>\n      <td>CoreyMSchafer@gmail.com</td>\n    </tr>\n    <tr>\n      <th>1</th>\n      <td>Jane</td>\n      <td>Doe</td>\n      <td>JaneDoe@email.com</td>\n    </tr>\n    <tr>\n      <th>2</th>\n      <td>John</td>\n      <td>Doe</td>\n      <td>JohnDoe@email.com</td>\n    </tr>\n  </tbody>\n</table>\n</div>"
     },
     "execution_count": 7,
     "metadata": {},
     "output_type": "execute_result"
    }
   ],
   "source": [
    "df = pd.DataFrame(people)\n",
    "df"
   ],
   "metadata": {
    "collapsed": false,
    "pycharm": {
     "name": "#%%\n"
    }
   }
  },
  {
   "cell_type": "code",
   "execution_count": 11,
   "outputs": [
    {
     "data": {
      "text/plain": "  first last              email\n1  Jane  Doe  JaneDoe@email.com\n2  John  Doe  JohnDoe@email.com",
      "text/html": "<div>\n<style scoped>\n    .dataframe tbody tr th:only-of-type {\n        vertical-align: middle;\n    }\n\n    .dataframe tbody tr th {\n        vertical-align: top;\n    }\n\n    .dataframe thead th {\n        text-align: right;\n    }\n</style>\n<table border=\"1\" class=\"dataframe\">\n  <thead>\n    <tr style=\"text-align: right;\">\n      <th></th>\n      <th>first</th>\n      <th>last</th>\n      <th>email</th>\n    </tr>\n  </thead>\n  <tbody>\n    <tr>\n      <th>1</th>\n      <td>Jane</td>\n      <td>Doe</td>\n      <td>JaneDoe@email.com</td>\n    </tr>\n    <tr>\n      <th>2</th>\n      <td>John</td>\n      <td>Doe</td>\n      <td>JohnDoe@email.com</td>\n    </tr>\n  </tbody>\n</table>\n</div>"
     },
     "execution_count": 11,
     "metadata": {},
     "output_type": "execute_result"
    }
   ],
   "source": [
    "filt = (df['last'] == 'Doe')\n",
    "df[filt]\n",
    "df[df['last']=='Doe']\n"
   ],
   "metadata": {
    "collapsed": false,
    "pycharm": {
     "name": "#%%\n"
    }
   }
  },
  {
   "cell_type": "code",
   "execution_count": 13,
   "outputs": [
    {
     "data": {
      "text/plain": "1    JaneDoe@email.com\n2    JohnDoe@email.com\nName: email, dtype: object"
     },
     "execution_count": 13,
     "metadata": {},
     "output_type": "execute_result"
    }
   ],
   "source": [
    "df.loc[filt, 'email']"
   ],
   "metadata": {
    "collapsed": false,
    "pycharm": {
     "name": "#%%\n"
    }
   }
  },
  {
   "cell_type": "markdown",
   "source": [
    "# use & | to filter out specific data"
   ],
   "metadata": {
    "collapsed": false,
    "pycharm": {
     "name": "#%% md\n"
    }
   }
  },
  {
   "cell_type": "code",
   "execution_count": 16,
   "outputs": [
    {
     "data": {
      "text/plain": "  first last              email\n2  John  Doe  JohnDoe@email.com",
      "text/html": "<div>\n<style scoped>\n    .dataframe tbody tr th:only-of-type {\n        vertical-align: middle;\n    }\n\n    .dataframe tbody tr th {\n        vertical-align: top;\n    }\n\n    .dataframe thead th {\n        text-align: right;\n    }\n</style>\n<table border=\"1\" class=\"dataframe\">\n  <thead>\n    <tr style=\"text-align: right;\">\n      <th></th>\n      <th>first</th>\n      <th>last</th>\n      <th>email</th>\n    </tr>\n  </thead>\n  <tbody>\n    <tr>\n      <th>2</th>\n      <td>John</td>\n      <td>Doe</td>\n      <td>JohnDoe@email.com</td>\n    </tr>\n  </tbody>\n</table>\n</div>"
     },
     "execution_count": 16,
     "metadata": {},
     "output_type": "execute_result"
    }
   ],
   "source": [
    "filt = (df['last'] == 'Doe') & (df['first'] == 'John')\n",
    "df[filt]"
   ],
   "metadata": {
    "collapsed": false,
    "pycharm": {
     "name": "#%%\n"
    }
   }
  },
  {
   "cell_type": "code",
   "execution_count": 20,
   "outputs": [
    {
     "data": {
      "text/plain": "0    CoreyMSchafer@gmail.com\nName: email, dtype: object"
     },
     "execution_count": 20,
     "metadata": {},
     "output_type": "execute_result"
    }
   ],
   "source": [
    "filt = (df['last'] == 'Doe') | (df['first'] == 'John')\n",
    "df.loc[filt, 'email']\n",
    "df.loc[~filt, 'email']"
   ],
   "metadata": {
    "collapsed": false,
    "pycharm": {
     "name": "#%%\n"
    }
   }
  },
  {
   "cell_type": "markdown",
   "source": [
    "# Real world Data process"
   ],
   "metadata": {
    "collapsed": false
   }
  },
  {
   "cell_type": "code",
   "execution_count": 21,
   "outputs": [
    {
     "data": {
      "text/plain": "   Respondent                                         MainBranch Hobbyist  \\\n0           1                     I am a developer by profession      Yes   \n1           2                     I am a developer by profession       No   \n2           3                        I code primarily as a hobby      Yes   \n3           4                     I am a developer by profession      Yes   \n4           5  I used to be a developer by profession, but no...      Yes   \n\n    Age Age1stCode CompFreq  CompTotal  ConvertedComp             Country  \\\n0   NaN         13  Monthly        NaN            NaN             Germany   \n1   NaN         19      NaN        NaN            NaN      United Kingdom   \n2   NaN         15      NaN        NaN            NaN  Russian Federation   \n3  25.0         18      NaN        NaN            NaN             Albania   \n4  31.0         16      NaN        NaN            NaN       United States   \n\n     CurrencyDesc  ...                  SurveyEase           SurveyLength  \\\n0   European Euro  ...  Neither easy nor difficult  Appropriate in length   \n1  Pound sterling  ...                         NaN                    NaN   \n2             NaN  ...  Neither easy nor difficult  Appropriate in length   \n3    Albanian lek  ...                         NaN                    NaN   \n4             NaN  ...                        Easy              Too short   \n\n  Trans                                     UndergradMajor  \\\n0    No  Computer science, computer engineering, or sof...   \n1   NaN  Computer science, computer engineering, or sof...   \n2   NaN                                                NaN   \n3    No  Computer science, computer engineering, or sof...   \n4    No  Computer science, computer engineering, or sof...   \n\n  WebframeDesireNextYear    WebframeWorkedWith  \\\n0           ASP.NET Core  ASP.NET;ASP.NET Core   \n1                    NaN                   NaN   \n2                    NaN                   NaN   \n3                    NaN                   NaN   \n4   Django;Ruby on Rails         Ruby on Rails   \n\n                              WelcomeChange WorkWeekHrs YearsCode YearsCodePro  \n0   Just as welcome now as I felt last year        50.0        36           27  \n1  Somewhat more welcome now than last year         NaN         7            4  \n2  Somewhat more welcome now than last year         NaN         4          NaN  \n3  Somewhat less welcome now than last year        40.0         7            4  \n4   Just as welcome now as I felt last year         NaN        15            8  \n\n[5 rows x 61 columns]",
      "text/html": "<div>\n<style scoped>\n    .dataframe tbody tr th:only-of-type {\n        vertical-align: middle;\n    }\n\n    .dataframe tbody tr th {\n        vertical-align: top;\n    }\n\n    .dataframe thead th {\n        text-align: right;\n    }\n</style>\n<table border=\"1\" class=\"dataframe\">\n  <thead>\n    <tr style=\"text-align: right;\">\n      <th></th>\n      <th>Respondent</th>\n      <th>MainBranch</th>\n      <th>Hobbyist</th>\n      <th>Age</th>\n      <th>Age1stCode</th>\n      <th>CompFreq</th>\n      <th>CompTotal</th>\n      <th>ConvertedComp</th>\n      <th>Country</th>\n      <th>CurrencyDesc</th>\n      <th>...</th>\n      <th>SurveyEase</th>\n      <th>SurveyLength</th>\n      <th>Trans</th>\n      <th>UndergradMajor</th>\n      <th>WebframeDesireNextYear</th>\n      <th>WebframeWorkedWith</th>\n      <th>WelcomeChange</th>\n      <th>WorkWeekHrs</th>\n      <th>YearsCode</th>\n      <th>YearsCodePro</th>\n    </tr>\n  </thead>\n  <tbody>\n    <tr>\n      <th>0</th>\n      <td>1</td>\n      <td>I am a developer by profession</td>\n      <td>Yes</td>\n      <td>NaN</td>\n      <td>13</td>\n      <td>Monthly</td>\n      <td>NaN</td>\n      <td>NaN</td>\n      <td>Germany</td>\n      <td>European Euro</td>\n      <td>...</td>\n      <td>Neither easy nor difficult</td>\n      <td>Appropriate in length</td>\n      <td>No</td>\n      <td>Computer science, computer engineering, or sof...</td>\n      <td>ASP.NET Core</td>\n      <td>ASP.NET;ASP.NET Core</td>\n      <td>Just as welcome now as I felt last year</td>\n      <td>50.0</td>\n      <td>36</td>\n      <td>27</td>\n    </tr>\n    <tr>\n      <th>1</th>\n      <td>2</td>\n      <td>I am a developer by profession</td>\n      <td>No</td>\n      <td>NaN</td>\n      <td>19</td>\n      <td>NaN</td>\n      <td>NaN</td>\n      <td>NaN</td>\n      <td>United Kingdom</td>\n      <td>Pound sterling</td>\n      <td>...</td>\n      <td>NaN</td>\n      <td>NaN</td>\n      <td>NaN</td>\n      <td>Computer science, computer engineering, or sof...</td>\n      <td>NaN</td>\n      <td>NaN</td>\n      <td>Somewhat more welcome now than last year</td>\n      <td>NaN</td>\n      <td>7</td>\n      <td>4</td>\n    </tr>\n    <tr>\n      <th>2</th>\n      <td>3</td>\n      <td>I code primarily as a hobby</td>\n      <td>Yes</td>\n      <td>NaN</td>\n      <td>15</td>\n      <td>NaN</td>\n      <td>NaN</td>\n      <td>NaN</td>\n      <td>Russian Federation</td>\n      <td>NaN</td>\n      <td>...</td>\n      <td>Neither easy nor difficult</td>\n      <td>Appropriate in length</td>\n      <td>NaN</td>\n      <td>NaN</td>\n      <td>NaN</td>\n      <td>NaN</td>\n      <td>Somewhat more welcome now than last year</td>\n      <td>NaN</td>\n      <td>4</td>\n      <td>NaN</td>\n    </tr>\n    <tr>\n      <th>3</th>\n      <td>4</td>\n      <td>I am a developer by profession</td>\n      <td>Yes</td>\n      <td>25.0</td>\n      <td>18</td>\n      <td>NaN</td>\n      <td>NaN</td>\n      <td>NaN</td>\n      <td>Albania</td>\n      <td>Albanian lek</td>\n      <td>...</td>\n      <td>NaN</td>\n      <td>NaN</td>\n      <td>No</td>\n      <td>Computer science, computer engineering, or sof...</td>\n      <td>NaN</td>\n      <td>NaN</td>\n      <td>Somewhat less welcome now than last year</td>\n      <td>40.0</td>\n      <td>7</td>\n      <td>4</td>\n    </tr>\n    <tr>\n      <th>4</th>\n      <td>5</td>\n      <td>I used to be a developer by profession, but no...</td>\n      <td>Yes</td>\n      <td>31.0</td>\n      <td>16</td>\n      <td>NaN</td>\n      <td>NaN</td>\n      <td>NaN</td>\n      <td>United States</td>\n      <td>NaN</td>\n      <td>...</td>\n      <td>Easy</td>\n      <td>Too short</td>\n      <td>No</td>\n      <td>Computer science, computer engineering, or sof...</td>\n      <td>Django;Ruby on Rails</td>\n      <td>Ruby on Rails</td>\n      <td>Just as welcome now as I felt last year</td>\n      <td>NaN</td>\n      <td>15</td>\n      <td>8</td>\n    </tr>\n  </tbody>\n</table>\n<p>5 rows × 61 columns</p>\n</div>"
     },
     "execution_count": 21,
     "metadata": {},
     "output_type": "execute_result"
    }
   ],
   "source": [
    "df = pd.read_csv('../data/developer_survey_2020/survey_results_public.csv')\n",
    "schema_df = pd.read_csv('../data/developer_survey_2020/survey_results_schema.csv')\n",
    "df.head()"
   ],
   "metadata": {
    "collapsed": false,
    "pycharm": {
     "name": "#%%\n"
    }
   }
  },
  {
   "cell_type": "code",
   "execution_count": 24,
   "outputs": [
    {
     "data": {
      "text/plain": "              Country                   LanguageWorkedWith  ConvertedComp\n7       United States                           Python;SQL       116000.0\n9      United Kingdom  HTML/CSS;Java;JavaScript;Python;SQL        32315.0\n10     United Kingdom                  C#;JavaScript;Swift        40070.0\n11              Spain                  HTML/CSS;JavaScript        14268.0\n12        Netherlands                  C;JavaScript;Python        38916.0\n...               ...                                  ...            ...\n64135         Denmark                                  NaN        38208.0\n64141         Germany                                  NaN       129718.0\n64148        Colombia                                  NaN        19428.0\n64153           Chile                                  NaN        15048.0\n64154           Japan                                  NaN        38759.0\n\n[32170 rows x 3 columns]",
      "text/html": "<div>\n<style scoped>\n    .dataframe tbody tr th:only-of-type {\n        vertical-align: middle;\n    }\n\n    .dataframe tbody tr th {\n        vertical-align: top;\n    }\n\n    .dataframe thead th {\n        text-align: right;\n    }\n</style>\n<table border=\"1\" class=\"dataframe\">\n  <thead>\n    <tr style=\"text-align: right;\">\n      <th></th>\n      <th>Country</th>\n      <th>LanguageWorkedWith</th>\n      <th>ConvertedComp</th>\n    </tr>\n  </thead>\n  <tbody>\n    <tr>\n      <th>7</th>\n      <td>United States</td>\n      <td>Python;SQL</td>\n      <td>116000.0</td>\n    </tr>\n    <tr>\n      <th>9</th>\n      <td>United Kingdom</td>\n      <td>HTML/CSS;Java;JavaScript;Python;SQL</td>\n      <td>32315.0</td>\n    </tr>\n    <tr>\n      <th>10</th>\n      <td>United Kingdom</td>\n      <td>C#;JavaScript;Swift</td>\n      <td>40070.0</td>\n    </tr>\n    <tr>\n      <th>11</th>\n      <td>Spain</td>\n      <td>HTML/CSS;JavaScript</td>\n      <td>14268.0</td>\n    </tr>\n    <tr>\n      <th>12</th>\n      <td>Netherlands</td>\n      <td>C;JavaScript;Python</td>\n      <td>38916.0</td>\n    </tr>\n    <tr>\n      <th>...</th>\n      <td>...</td>\n      <td>...</td>\n      <td>...</td>\n    </tr>\n    <tr>\n      <th>64135</th>\n      <td>Denmark</td>\n      <td>NaN</td>\n      <td>38208.0</td>\n    </tr>\n    <tr>\n      <th>64141</th>\n      <td>Germany</td>\n      <td>NaN</td>\n      <td>129718.0</td>\n    </tr>\n    <tr>\n      <th>64148</th>\n      <td>Colombia</td>\n      <td>NaN</td>\n      <td>19428.0</td>\n    </tr>\n    <tr>\n      <th>64153</th>\n      <td>Chile</td>\n      <td>NaN</td>\n      <td>15048.0</td>\n    </tr>\n    <tr>\n      <th>64154</th>\n      <td>Japan</td>\n      <td>NaN</td>\n      <td>38759.0</td>\n    </tr>\n  </tbody>\n</table>\n<p>32170 rows × 3 columns</p>\n</div>"
     },
     "execution_count": 24,
     "metadata": {},
     "output_type": "execute_result"
    }
   ],
   "source": [
    "high_salary = (df['ConvertedComp'] > 7000)\n",
    "df.loc[high_salary, ['Country', 'LanguageWorkedWith', 'ConvertedComp']]"
   ],
   "metadata": {
    "collapsed": false,
    "pycharm": {
     "name": "#%%\n"
    }
   }
  },
  {
   "cell_type": "code",
   "execution_count": 27,
   "outputs": [
    {
     "data": {
      "text/plain": "0               Germany\n1        United Kingdom\n4         United States\n5               Germany\n6                 India\n              ...      \n64441            Canada\n64442             India\n64443     United States\n64452             India\n64456     United States\nName: Country, Length: 30849, dtype: object"
     },
     "execution_count": 27,
     "metadata": {},
     "output_type": "execute_result"
    }
   ],
   "source": [
    "countries = ['United States', 'India', 'United Kingdom', 'Germany', 'Canada']\n",
    "country_filter = df['Country'].isin(countries)\n",
    "df.loc[country_filter, 'Country']"
   ],
   "metadata": {
    "collapsed": false,
    "pycharm": {
     "name": "#%%\n"
    }
   }
  },
  {
   "cell_type": "code",
   "execution_count": 30,
   "outputs": [
    {
     "data": {
      "text/plain": "2                                 Objective-C;Python;Swift\n7                                               Python;SQL\n9                      HTML/CSS;Java;JavaScript;Python;SQL\n12                                     C;JavaScript;Python\n14        Bash/Shell/PowerShell;C;HTML/CSS;Java;Python;SQL\n                               ...                        \n64433    Bash/Shell/PowerShell;HTML/CSS;JavaScript;Perl...\n64438       C++;HTML/CSS;JavaScript;Python;Ruby;TypeScript\n64443              C++;HTML/CSS;Java;JavaScript;Python;SQL\n64446    Bash/Shell/PowerShell;C;C#;C++;HTML/CSS;Java;J...\n64457    Assembly;Bash/Shell/PowerShell;C;C#;C++;Dart;G...\nName: LanguageWorkedWith, Length: 25287, dtype: object"
     },
     "execution_count": 30,
     "metadata": {},
     "output_type": "execute_result"
    }
   ],
   "source": [
    "filt = df['LanguageWorkedWith'].str.contains('Python', na=False)\n",
    "df.loc[filt, 'LanguageWorkedWith']\n"
   ],
   "metadata": {
    "collapsed": false,
    "pycharm": {
     "name": "#%%\n"
    }
   }
  }
 ],
 "metadata": {
  "kernelspec": {
   "display_name": "Python 3",
   "language": "python",
   "name": "python3"
  },
  "language_info": {
   "codemirror_mode": {
    "name": "ipython",
    "version": 2
   },
   "file_extension": ".py",
   "mimetype": "text/x-python",
   "name": "python",
   "nbconvert_exporter": "python",
   "pygments_lexer": "ipython2",
   "version": "2.7.6"
  }
 },
 "nbformat": 4,
 "nbformat_minor": 0
}